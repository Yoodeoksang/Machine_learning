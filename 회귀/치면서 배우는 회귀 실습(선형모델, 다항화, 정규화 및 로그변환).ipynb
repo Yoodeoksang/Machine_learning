{
 "cells": [
  {
   "cell_type": "markdown",
   "metadata": {},
   "source": [
    "### 5.4 사이킷런 LinearRegression을 이용한 보스턴 주택 가격 예측"
   ]
  },
  {
   "cell_type": "code",
   "execution_count": 1,
   "metadata": {},
   "outputs": [
    {
     "name": "stdout",
     "output_type": "stream",
     "text": [
      "Boston 데이타셋 크기 : (506, 14)\n"
     ]
    },
    {
     "name": "stderr",
     "output_type": "stream",
     "text": [
      "C:\\Users\\82109\\Anaconda3\\lib\\site-packages\\sklearn\\feature_extraction\\text.py:17: DeprecationWarning: Using or importing the ABCs from 'collections' instead of from 'collections.abc' is deprecated since Python 3.3,and in 3.9 it will stop working\n",
      "  from collections import Mapping, defaultdict\n"
     ]
    },
    {
     "data": {
      "text/html": [
       "<div>\n",
       "<style scoped>\n",
       "    .dataframe tbody tr th:only-of-type {\n",
       "        vertical-align: middle;\n",
       "    }\n",
       "\n",
       "    .dataframe tbody tr th {\n",
       "        vertical-align: top;\n",
       "    }\n",
       "\n",
       "    .dataframe thead th {\n",
       "        text-align: right;\n",
       "    }\n",
       "</style>\n",
       "<table border=\"1\" class=\"dataframe\">\n",
       "  <thead>\n",
       "    <tr style=\"text-align: right;\">\n",
       "      <th></th>\n",
       "      <th>CRIM</th>\n",
       "      <th>ZN</th>\n",
       "      <th>INDUS</th>\n",
       "      <th>CHAS</th>\n",
       "      <th>NOX</th>\n",
       "      <th>RM</th>\n",
       "      <th>AGE</th>\n",
       "      <th>DIS</th>\n",
       "      <th>RAD</th>\n",
       "      <th>TAX</th>\n",
       "      <th>PTRATIO</th>\n",
       "      <th>B</th>\n",
       "      <th>LSTAT</th>\n",
       "      <th>PRICE</th>\n",
       "    </tr>\n",
       "  </thead>\n",
       "  <tbody>\n",
       "    <tr>\n",
       "      <th>0</th>\n",
       "      <td>0.00632</td>\n",
       "      <td>18.0</td>\n",
       "      <td>2.31</td>\n",
       "      <td>0.0</td>\n",
       "      <td>0.538</td>\n",
       "      <td>6.575</td>\n",
       "      <td>65.2</td>\n",
       "      <td>4.0900</td>\n",
       "      <td>1.0</td>\n",
       "      <td>296.0</td>\n",
       "      <td>15.3</td>\n",
       "      <td>396.90</td>\n",
       "      <td>4.98</td>\n",
       "      <td>24.0</td>\n",
       "    </tr>\n",
       "    <tr>\n",
       "      <th>1</th>\n",
       "      <td>0.02731</td>\n",
       "      <td>0.0</td>\n",
       "      <td>7.07</td>\n",
       "      <td>0.0</td>\n",
       "      <td>0.469</td>\n",
       "      <td>6.421</td>\n",
       "      <td>78.9</td>\n",
       "      <td>4.9671</td>\n",
       "      <td>2.0</td>\n",
       "      <td>242.0</td>\n",
       "      <td>17.8</td>\n",
       "      <td>396.90</td>\n",
       "      <td>9.14</td>\n",
       "      <td>21.6</td>\n",
       "    </tr>\n",
       "    <tr>\n",
       "      <th>2</th>\n",
       "      <td>0.02729</td>\n",
       "      <td>0.0</td>\n",
       "      <td>7.07</td>\n",
       "      <td>0.0</td>\n",
       "      <td>0.469</td>\n",
       "      <td>7.185</td>\n",
       "      <td>61.1</td>\n",
       "      <td>4.9671</td>\n",
       "      <td>2.0</td>\n",
       "      <td>242.0</td>\n",
       "      <td>17.8</td>\n",
       "      <td>392.83</td>\n",
       "      <td>4.03</td>\n",
       "      <td>34.7</td>\n",
       "    </tr>\n",
       "  </tbody>\n",
       "</table>\n",
       "</div>"
      ],
      "text/plain": [
       "      CRIM    ZN  INDUS  CHAS    NOX     RM   AGE     DIS  RAD    TAX  \\\n",
       "0  0.00632  18.0   2.31   0.0  0.538  6.575  65.2  4.0900  1.0  296.0   \n",
       "1  0.02731   0.0   7.07   0.0  0.469  6.421  78.9  4.9671  2.0  242.0   \n",
       "2  0.02729   0.0   7.07   0.0  0.469  7.185  61.1  4.9671  2.0  242.0   \n",
       "\n",
       "   PTRATIO       B  LSTAT  PRICE  \n",
       "0     15.3  396.90   4.98   24.0  \n",
       "1     17.8  396.90   9.14   21.6  \n",
       "2     17.8  392.83   4.03   34.7  "
      ]
     },
     "execution_count": 1,
     "metadata": {},
     "output_type": "execute_result"
    }
   ],
   "source": [
    "import numpy as np\n",
    "import matplotlib.pyplot as plt\n",
    "import pandas as pd\n",
    "import seaborn as sns\n",
    "import warnings\n",
    "from scipy import stats\n",
    "from sklearn.datasets import load_boston\n",
    "%matplotlib inline\n",
    "warnings.filterwarnings(action='ignore')\n",
    "\n",
    "# 데이터 로드\n",
    "boston = load_boston()\n",
    "\n",
    "bostonDF = pd.DataFrame(boston.data, columns = boston.feature_names)\n",
    "\n",
    "bostonDF['PRICE'] = boston.target\n",
    "print('Boston 데이타셋 크기 :', bostonDF.shape)\n",
    "bostonDF.head(3)"
   ]
  },
  {
   "cell_type": "code",
   "execution_count": 2,
   "metadata": {},
   "outputs": [
    {
     "name": "stdout",
     "output_type": "stream",
     "text": [
      "<class 'pandas.core.frame.DataFrame'>\n",
      "RangeIndex: 506 entries, 0 to 505\n",
      "Data columns (total 14 columns):\n",
      "CRIM       506 non-null float64\n",
      "ZN         506 non-null float64\n",
      "INDUS      506 non-null float64\n",
      "CHAS       506 non-null float64\n",
      "NOX        506 non-null float64\n",
      "RM         506 non-null float64\n",
      "AGE        506 non-null float64\n",
      "DIS        506 non-null float64\n",
      "RAD        506 non-null float64\n",
      "TAX        506 non-null float64\n",
      "PTRATIO    506 non-null float64\n",
      "B          506 non-null float64\n",
      "LSTAT      506 non-null float64\n",
      "PRICE      506 non-null float64\n",
      "dtypes: float64(14)\n",
      "memory usage: 55.5 KB\n"
     ]
    }
   ],
   "source": [
    "bostonDF.info()"
   ]
  },
  {
   "cell_type": "code",
   "execution_count": 3,
   "metadata": {},
   "outputs": [
    {
     "data": {
      "image/png": "[encoded data removed]",
      "text/plain": [
       "<Figure size 1152x576 with 8 Axes>"
      ]
     },
     "metadata": {
      "needs_background": "light"
     },
     "output_type": "display_data"
    }
   ],
   "source": [
    "# 'RM' - 거주할 수 있는 방 개수\n",
    "# 'ZN' - 거주지역의 비율\n",
    "#'INDUS' - 비상업 지역의 넓이 비율\n",
    "# 'NOX' - 일산화질소 농도\n",
    "# 'AGE' - 1940년 이전에 건축된 소유 주택의 비율\n",
    "# 'PTRATIO' - 지역의 교사와 학생 수 비율\n",
    "# 'LSTAT' - 하위 계층의 비율\n",
    "# 'RAD' - 고속도로 접근 용이도\n",
    "\n",
    "fig, axs = plt.subplots(figsize=(16,8), ncols = 4, nrows = 2)\n",
    "lm_features = ['RM','ZN','INDUS','NOX','AGE','PTRATIO','LSTAT','RAD']\n",
    "for i, feature in enumerate(lm_features):\n",
    "    row = int(i/4)\n",
    "    col = i%4\n",
    "    sns.regplot(x=feature, y='PRICE', data=bostonDF, ax = axs[row][col])"
   ]
  },
  {
   "cell_type": "code",
   "execution_count": 4,
   "metadata": {},
   "outputs": [
    {
     "name": "stdout",
     "output_type": "stream",
     "text": [
      "MSE : 17.306, RMSE : 4.160\n",
      "Variance score : 0.757\n"
     ]
    }
   ],
   "source": [
    "from sklearn.model_selection import train_test_split\n",
    "from sklearn.linear_model import LinearRegression\n",
    "from sklearn.metrics import mean_squared_error, r2_score\n",
    "\n",
    "y_target = bostonDF['PRICE']\n",
    "X_data = bostonDF.drop(['PRICE'],axis = 1)\n",
    "\n",
    "X_train, X_test, y_train, y_test = train_test_split(X_data,y_target,test_size = 0.3, random_state = 156)\n",
    "\n",
    "lr = LinearRegression()\n",
    "lr.fit(X_train,y_train)\n",
    "y_preds = lr.predict(X_test)\n",
    "mse = mean_squared_error(y_test, y_preds)\n",
    "rmse = np.sqrt(mse)\n",
    "r2 = r2_score(y_test, y_preds)\n",
    "\n",
    "print('MSE : {0:.3f}, RMSE : {1:.3F}'.format(mse,rmse))\n",
    "print('Variance score : {0:.3f}'.format(r2))\n"
   ]
  },
  {
   "cell_type": "code",
   "execution_count": 5,
   "metadata": {},
   "outputs": [
    {
     "name": "stdout",
     "output_type": "stream",
     "text": [
      "절편 값: 40.995595172164336\n",
      "회귀 계수값: [ -0.1   0.1   0.    3.  -19.8   3.4   0.   -1.7   0.4  -0.   -0.9   0.\n",
      "  -0.6]\n"
     ]
    }
   ],
   "source": [
    "print('절편 값:',lr.intercept_)\n",
    "print('회귀 계수값:', np.round(lr.coef_, 1))"
   ]
  },
  {
   "cell_type": "code",
   "execution_count": 6,
   "metadata": {},
   "outputs": [
    {
     "data": {
      "text/plain": [
       "RM          3.4\n",
       "CHAS        3.0\n",
       "RAD         0.4\n",
       "ZN          0.1\n",
       "B           0.0\n",
       "TAX        -0.0\n",
       "AGE         0.0\n",
       "INDUS       0.0\n",
       "CRIM       -0.1\n",
       "LSTAT      -0.6\n",
       "PTRATIO    -0.9\n",
       "DIS        -1.7\n",
       "NOX       -19.8\n",
       "dtype: float64"
      ]
     },
     "execution_count": 6,
     "metadata": {},
     "output_type": "execute_result"
    }
   ],
   "source": [
    "coeff = pd.Series(data=np.round(lr.coef_,1),index = X_data.columns)\n",
    "coeff.sort_values(ascending = False)"
   ]
  },
  {
   "cell_type": "code",
   "execution_count": 7,
   "metadata": {},
   "outputs": [
    {
     "name": "stdout",
     "output_type": "stream",
     "text": [
      " 5 folds 의 개별 Negative MSE scores:  [-12.48 -26.1  -33.12 -80.83 -33.58]\n",
      " 5 folds 의 개별 RMSE scores:  [3.53 5.11 5.75 8.99 5.8 ]\n",
      " 5 folds 의 평균 RMSE scores:  5.836431226523905\n"
     ]
    }
   ],
   "source": [
    "from sklearn.model_selection import cross_val_score\n",
    "\n",
    "neg_mse_scores = cross_val_score(lr, X_data, y_target, scoring=\"neg_mean_squared_error\",cv = 5)\n",
    "rmse_scores = np.sqrt(-1 * neg_mse_scores)\n",
    "avg_rmse = np.mean(rmse_scores)\n",
    "\n",
    "print(' 5 folds 의 개별 Negative MSE scores: ', np.round(neg_mse_scores, 2))\n",
    "print(' 5 folds 의 개별 RMSE scores: ', np.round(rmse_scores, 2))\n",
    "print(' 5 folds 의 평균 RMSE scores: ', avg_rmse)\n"
   ]
  },
  {
   "cell_type": "markdown",
   "metadata": {},
   "source": [
    "### 5-5. Polynomial Regression과 오버피팅/언더피팅 이해"
   ]
  },
  {
   "cell_type": "markdown",
   "metadata": {},
   "source": [
    "#### Polynomial Regression 이해"
   ]
  },
  {
   "cell_type": "code",
   "execution_count": 8,
   "metadata": {},
   "outputs": [
    {
     "name": "stdout",
     "output_type": "stream",
     "text": [
      "일차 단항식 계수 feature:\n",
      " [[0 1]\n",
      " [2 3]]\n",
      "뱐환된 2차 다항식 계수 feature:\n",
      " [[1. 0. 1. 0. 0. 1.]\n",
      " [1. 2. 3. 4. 6. 9.]]\n"
     ]
    }
   ],
   "source": [
    "# 단항식을 다항식으로 바꿔주는 라이브러리\n",
    "from sklearn.preprocessing import PolynomialFeatures\n",
    "import numpy as np\n",
    "\n",
    "# 다항식으로 변환한 단항식 생성\n",
    "X = np.arange(4).reshape(2,2)\n",
    "print('일차 단항식 계수 feature:\\n',X)\n",
    "\n",
    "# degree = 2인 2차 다항식으로 변환하기 위해 PolynomialFeatures를 이용하여 변환\n",
    "poly = PolynomialFeatures(degree = 2)\n",
    "poly.fit(X)\n",
    "poly_ftr = poly.transform(X)\n",
    "print('뱐환된 2차 다항식 계수 feature:\\n',poly_ftr)\n",
    "\n"
   ]
  },
  {
   "cell_type": "markdown",
   "metadata": {},
   "source": [
    "3차 다항식 결정값을 구하는 함수 polynomial_func(X) 생성. 즉 회귀식은 결정값 y = 1 + 2x_1 + 3x_1^2 + 4x_2^3"
   ]
  },
  {
   "cell_type": "code",
   "execution_count": 9,
   "metadata": {},
   "outputs": [
    {
     "name": "stdout",
     "output_type": "stream",
     "text": [
      "일차 단항식 계수 feature : \n",
      " [[0 1]\n",
      " [2 3]]\n",
      "삼차 다항식 결정값 : \n",
      " [  5 125]\n"
     ]
    }
   ],
   "source": [
    "def polynomial_func(X):\n",
    "    y = 1 + 2*X[:,0] + 3*X[:,0]**2 + 4*X[:,1]**3\n",
    "    return y\n",
    "\n",
    "X = np.arange(0,4).reshape(2,2)\n",
    "print('일차 단항식 계수 feature : \\n' , X)\n",
    "y = polynomial_func(X)\n",
    "print('삼차 다항식 결정값 : \\n' , y)"
   ]
  },
  {
   "cell_type": "code",
   "execution_count": 13,
   "metadata": {},
   "outputs": [
    {
     "name": "stdout",
     "output_type": "stream",
     "text": [
      "3차 다항식 계수 feature: \n",
      " [[ 1.  0.  1.  0.  0.  1.  0.  0.  0.  1.]\n",
      " [ 1.  2.  3.  4.  6.  9.  8. 12. 18. 27.]]\n",
      "Polynomial 회귀 계수 \n",
      " [0.   0.18 0.18 0.36 0.54 0.72 0.72 1.08 1.62 2.34]\n",
      "Polynomial 회귀 shape (10,)\n"
     ]
    }
   ],
   "source": [
    "# 3차 다항식 변환\n",
    "poly_ftr = PolynomialFeatures(degree = 3).fit_transform(X)\n",
    "print('3차 다항식 계수 feature: \\n', poly_ftr)\n",
    "\n",
    "# Linear Regression에 3차 다항식 계수 feature와 3차 다항식 결정값으로 학습후 회귀 계수 확인\n",
    "model = LinearRegression()\n",
    "model.fit(poly_ftr, y)\n",
    "print('Polynomial 회귀 계수 \\n', np.round(model.coef_, 2))\n",
    "print('Polynomial 회귀 shape', model.coef_.shape)"
   ]
  },
  {
   "cell_type": "markdown",
   "metadata": {},
   "source": [
    "피쳐가 degree의 수만큼 조합되어 나왔음을 알 수 있음(3차 다항식, 절편 포함)"
   ]
  },
  {
   "cell_type": "markdown",
   "metadata": {},
   "source": [
    "- pipeline을 통해 전처리와 모델링을 연결한 후 실행"
   ]
  },
  {
   "cell_type": "code",
   "execution_count": 15,
   "metadata": {},
   "outputs": [
    {
     "name": "stdout",
     "output_type": "stream",
     "text": [
      "Polynomial 회귀 계수 \n",
      " [0.   0.18 0.18 0.36 0.54 0.72 0.72 1.08 1.62 2.34]\n"
     ]
    }
   ],
   "source": [
    "from sklearn.preprocessing import PolynomialFeatures\n",
    "from sklearn.linear_model import LinearRegression\n",
    "from sklearn.pipeline import Pipeline\n",
    "import numpy as np\n",
    "\n",
    "def polynomial_func(X):\n",
    "    y = 1 + 2*X[:,0] + 3*X[:,0]**2 + 4*X[:,1]**3\n",
    "    return y\n",
    "\n",
    "# Pipeline 객체로 Streamline하게 Polynomial Feature 변환과 Linear Regression을 연결\n",
    "model = Pipeline([('poly',PolynomialFeatures(degree = 3)),\n",
    "                 ('linear', LinearRegression())])\n",
    "\n",
    "X = np.arange(0,4).reshape(2,2)\n",
    "y = polynomial_func(X)\n",
    "\n",
    "model = model.fit(X, y)\n",
    "print('Polynomial 회귀 계수 \\n', np.round(model.named_steps['linear'].coef_, 2))"
   ]
  },
  {
   "cell_type": "markdown",
   "metadata": {},
   "source": [
    "### Polynomial Regression을 이용한 Underfitting, Overfitting 이해"
   ]
  },
  {
   "cell_type": "markdown",
   "metadata": {},
   "source": [
    "- 다항식의 차수가 높아질수록 매우 복잡한 피쳐간의 관계까지 모델링이 가능함\n",
    "- 하지만 차수가 높아질수록 과적합의 문제가 발생"
   ]
  },
  {
   "cell_type": "code",
   "execution_count": 18,
   "metadata": {},
   "outputs": [
    {
     "data": {
      "text/plain": [
       "array([ 1.0819082 ,  0.87027612,  1.14386208,  0.70322051,  0.78494746,\n",
       "       -0.25265944, -0.22066063, -0.26595867, -0.4562644 , -0.53001927,\n",
       "       -0.86481449, -0.99462675, -0.87458603, -0.83407054, -0.77090649,\n",
       "       -0.83476183, -1.03080067, -1.02544303, -1.0788268 , -1.00713288,\n",
       "       -1.03009698, -0.63623922, -0.86230652, -0.75328767, -0.70023795,\n",
       "       -0.41043495, -0.50486767, -0.27907117, -0.25994628, -0.06189804])"
      ]
     },
     "execution_count": 18,
     "metadata": {},
     "output_type": "execute_result"
    }
   ],
   "source": [
    "import numpy as np\n",
    "import matplotlib.pyplot as plt\n",
    "from sklearn.pipeline import Pipeline\n",
    "from sklearn.preprocessing import PolynomialFeatures\n",
    "from sklearn.linear_model import LinearRegression\n",
    "from sklearn.model_selection import cross_val_score\n",
    "%matplotlib inline\n",
    "\n",
    "# random 값으로 구성된 X값에 대해 Cosine 변환값을 반환\n",
    "def true_fun(X):\n",
    "    return np.cos(1.5 * np.pi * X)\n",
    "\n",
    "# X는 0부터 1까지 30개의 random한 값을 순서대러 sampling한 데이터\n",
    "np.random.seed(0)\n",
    "n_samples = 30\n",
    "X = np.sort(np.random.rand(n_samples))\n",
    "\n",
    "# y값은 cosine 기반의 true_fum() 에서 약간의 Nosie 변동값을 더한 값\n",
    "y = true_fun(X) + np.random.randn(n_samples) * 0.1"
   ]
  },
  {
   "cell_type": "code",
   "execution_count": 21,
   "metadata": {},
   "outputs": [
    {
     "data": {
      "text/plain": [
       "((30,), (30,))"
      ]
     },
     "execution_count": 21,
     "metadata": {},
     "output_type": "execute_result"
    }
   ],
   "source": [
    "X.shape, y.shape"
   ]
  },
  {
   "cell_type": "code",
   "execution_count": 23,
   "metadata": {},
   "outputs": [
    {
     "name": "stdout",
     "output_type": "stream",
     "text": [
      "\n",
      "Degree 1, 회귀계수는 [-1.61]입니다.\n",
      "Degree 1의 MSE는 0.41입니다.\n",
      "\n",
      "Degree 4, 회귀계수는 [  0.47 -17.79  23.59  -7.26]입니다.\n",
      "Degree 4의 MSE는 0.04입니다.\n",
      "\n",
      "Degree 15, 회귀계수는 [-2.98295000e+03  1.03899930e+05 -1.87417069e+06  2.03717225e+07\n",
      " -1.44873988e+08  7.09318780e+08 -2.47066977e+09  6.24564048e+09\n",
      " -1.15677067e+10  1.56895696e+10 -1.54006776e+10  1.06457788e+10\n",
      " -4.91379977e+09  1.35920330e+09 -1.70381654e+08]입니다.\n",
      "Degree 15의 MSE는 182815433.48입니다.\n"
     ]
    },
    {
     "data": {
      "image/png": "[encoded data removed]",
      "text/plain": [
       "<Figure size 1008x360 with 3 Axes>"
      ]
     },
     "metadata": {},
     "output_type": "display_data"
    }
   ],
   "source": [
    "plt.figure(figsize = (14,5))\n",
    "degrees = [1,4,15]\n",
    "\n",
    "# 다항 회귀의 차수를 1,4,15로 각각 변화시키면서 비교\n",
    "for i in range(len(degrees)):\n",
    "    ax = plt.subplot(1,len(degrees),i + 1)\n",
    "    plt.setp(ax, xticks=(), yticks =())\n",
    "    \n",
    "    # 개별 degree별로 Polynomial 변환\n",
    "    polynomial_features = PolynomialFeatures(degree = degrees[i], include_bias = False)\n",
    "    linear_regression = LinearRegression()\n",
    "    pipeline = Pipeline([('polynomial_features', polynomial_features),\n",
    "                        ('linear_regression', linear_regression)])\n",
    "    pipeline.fit(X.reshape(-1, 1),y)\n",
    "    \n",
    "    # 교차 검증으로 다항회귀를 평가\n",
    "    scores = cross_val_score(pipeline, X.reshape(-1, 1), y, scoring = 'neg_mean_squared_error', cv = 10)\n",
    "    coefficients = pipeline.named_steps['linear_regression'].coef_\n",
    "    print('\\nDegree {0}, 회귀계수는 {1}입니다.'.format(degrees[i], np.round(coefficients,2)))\n",
    "    print('Degree {0}의 MSE는 {1:.2f}입니다.'.format(degrees[i], -1*np.mean(scores)))\n",
    "    \n",
    "    # 0부터 1까지 테스트 데이터 세트를 100개로 나눠 예측을 수행\n",
    "    X_test = np.linspace(0,1,100)\n",
    "    \n",
    "    # 예측값 곡선\n",
    "    plt.plot(X_test, pipeline.predict(X_test[:, np.newaxis]), label = \"Model\")\n",
    "    \n",
    "    # 실제값 곡선\n",
    "    plt.plot(X_test, true_fun(X_test),'--', label = \"True function\")\n",
    "    plt.scatter(X, y, edgecolors='b',s = 20, label = \"Samples\")\n",
    "    \n",
    "    plt.xlabel('x')\n",
    "    plt.ylabel('y')\n",
    "    plt.xlim((0,1))\n",
    "    plt.ylim((-2,2))\n",
    "    plt.legend(loc='best')\n",
    "    plt.title(\"Degree {}\\nMSE = {:.2e}(+/- {:.2e})\".format(degrees[i], -scores.mean(), scores.std()))\n",
    "\n",
    "plt.show()    \n",
    "    "
   ]
  },
  {
   "cell_type": "markdown",
   "metadata": {},
   "source": [
    "  \n",
    "##### Degree 1 \n",
    "- 단순한 직선으로 단순 선형 회귀와 똑같다\n",
    "- 과소적합된 모델  \n",
    "\n",
    "##### Degree 4 \n",
    "- 실제 데이터 세트와 유사함\n",
    "- 변동하는 잡음까지는 예측 못함 but 가장 뛰어난 예측성능  \n",
    "\n",
    "##### Degree 15 \n",
    "- 학습데이터만 정확히 예측, 테스트는 전혀 예측못함\n",
    "- 과적합이 심한 모델"
   ]
  },
  {
   "cell_type": "markdown",
   "metadata": {},
   "source": [
    "## 5-6. Regularized Linear Models - Ridge, Lasso "
   ]
  },
  {
   "cell_type": "markdown",
   "metadata": {},
   "source": [
    "- 최적모델을 위한 cost함수의 구성요소 = (학습데이터의 잔차오류 최소화) + (회귀계수 크기제어)\n",
    "- 이를 제어하기 위해 alpha(하이퍼파라미터)값을 조정\n",
    "- alpha를 크게하면 과적합 개선, alpha를 작게하면 학습데이터 적합 개선\n",
    "- alpha값으로 패널티를 부여해 개선시키는 것을 <q>규제(Regularization)</q>라고함\n",
    "- 규제의 종류는 L2, L1이 있으며 이에 따라 각각 릿지, 라쏘 회귀가 존재\n"
   ]
  },
  {
   "cell_type": "markdown",
   "metadata": {},
   "source": [
    "### 릿지 회귀"
   ]
  },
  {
   "cell_type": "markdown",
   "metadata": {},
   "source": [
    "- L2 규제를 사용한 회귀\n",
    "- alpha값이 커질수록 회귀계수 값을 작게 만든다(0으로 가지는 않음)"
   ]
  },
  {
   "cell_type": "code",
   "execution_count": 25,
   "metadata": {},
   "outputs": [
    {
     "name": "stdout",
     "output_type": "stream",
     "text": [
      " 5 folds의 개별 Negative MSE scores [-11.437 -24.291 -28.17  -74.673 -28.719]\n",
      " 5 folds의 개별 RMSE scores [3.533 5.108 5.755 8.991 5.795]\n",
      " 5 folds의 개별 RMSE : 5.836\n"
     ]
    }
   ],
   "source": [
    "# 앞의 LinearRegression예제에서 분할한 feature 데이터 셋인 X_data와 Tatget 데이터\n",
    "from sklearn.linear_model import Ridge\n",
    "from sklearn.model_selection import cross_val_score\n",
    "\n",
    "ridge = Ridge(alpha = 10)\n",
    "neg_mse_scores = cross_val_score(ridge, X_data,y_target, scoring=\"neg_mean_squared_error\",cv = 5)\n",
    "rmse_scores - np.sqrt(-1 * neg_mse_scores)\n",
    "avg_rmse = np.mean(rmse_scores)\n",
    "print(' 5 folds의 개별 Negative MSE scores', np.round(neg_mse_scores,3))\n",
    "print(' 5 folds의 개별 RMSE scores', np.round(rmse_scores,3))\n",
    "print(' 5 folds의 개별 RMSE : {0:.3f}'.format(avg_rmse))"
   ]
  },
  {
   "cell_type": "code",
   "execution_count": 26,
   "metadata": {},
   "outputs": [
    {
     "name": "stdout",
     "output_type": "stream",
     "text": [
      "alpha 0 일 때 5 folds의 평균 RMSE : 5.836\n",
      "alpha 0.1 일 때 5 folds의 평균 RMSE : 5.796\n",
      "alpha 1 일 때 5 folds의 평균 RMSE : 5.659\n",
      "alpha 10 일 때 5 folds의 평균 RMSE : 5.524\n",
      "alpha 100 일 때 5 folds의 평균 RMSE : 5.332\n"
     ]
    }
   ],
   "source": [
    "# Ridge에 사용될 alpha 파라미터의 값들을 정의\n",
    "alphas = [0,0.1,1,10,100]\n",
    "\n",
    "# alphas list 값을 iteration 하면서 alpha에 따른 평균 rmse 구함\n",
    "for alpha in alphas:\n",
    "    ridge = Ridge(alpha = alpha)\n",
    "    \n",
    "    # cross_val_score를 이용하여 5fold의 평균 RMSE를 계산\n",
    "    neg_mse_scores = cross_val_score(ridge, X_data, y_target, scoring='neg_mean_squared_error',cv = 5)\n",
    "    avg_rmse = np.mean(np.sqrt(-1 * neg_mse_scores))\n",
    "    print('alpha {0} 일 때 5 folds의 평균 RMSE : {1:.3f}'.format(alpha, avg_rmse))"
   ]
  },
  {
   "cell_type": "code",
   "execution_count": 28,
   "metadata": {},
   "outputs": [
    {
     "data": {
      "image/png": "[encoded data removed]",
      "text/plain": [
       "<Figure size 1296x432 with 5 Axes>"
      ]
     },
     "metadata": {
      "needs_background": "light"
     },
     "output_type": "display_data"
    }
   ],
   "source": [
    "# 각 alpha에 따른 회귀계수 값을 시각화 하기 위해 5개의 열로 된 맷플롯립 축 생성\n",
    "fig, axs = plt.subplots(figsize = (18,6), nrows = 1, ncols = 5)\n",
    "\n",
    "# 각 alpha에 따른 회귀 계수 값을 데이터로 저장하기 위한 DataFrame 생성\n",
    "coeff_df = pd.DataFrame()\n",
    "\n",
    "# alphas 리스트 값을 차례로 입력해 회귀 계수 값 시각화 및 데이터 저장\n",
    "# pos는 axis의 위치지정 \n",
    "for pos, alpha in enumerate(alphas):\n",
    "    ridge = Ridge(alpha = alpha)\n",
    "    ridge.fit(X_data, y_target)\n",
    "    \n",
    "    # alpha에 따른 피처별 회귀 계수를 Series로 변환하고 이를 DataFrame의 컬럼으로 추가\n",
    "    coeff = pd.Series(data = ridge.coef_, index = X_data.columns)\n",
    "    colname = 'alpha:'+str(alpha)\n",
    "    coeff_df[colname] = coeff\n",
    "    \n",
    "    # 막대 그래프로 각 alpha 값에서의 회귀계수를 시각화, 회귀계수값이 높은 순으로 표현\n",
    "    coeff = coeff.sort_values(ascending = False)\n",
    "    axs[pos].set_title(colname)\n",
    "    axs[pos].set_xlim(-3,6)\n",
    "    sns.barplot(x=coeff.values, y = coeff.index , ax = axs[pos])\n",
    "\n",
    "# for 문 바깥에서 맷플롯립의 show 호출 및 alpha에 따른 피쳐별 회귀계수를 DataFrame으로 표시\n",
    "plt.show()"
   ]
  },
  {
   "cell_type": "code",
   "execution_count": 30,
   "metadata": {},
   "outputs": [
    {
     "data": {
      "text/html": [
       "<div>\n",
       "<style scoped>\n",
       "    .dataframe tbody tr th:only-of-type {\n",
       "        vertical-align: middle;\n",
       "    }\n",
       "\n",
       "    .dataframe tbody tr th {\n",
       "        vertical-align: top;\n",
       "    }\n",
       "\n",
       "    .dataframe thead th {\n",
       "        text-align: right;\n",
       "    }\n",
       "</style>\n",
       "<table border=\"1\" class=\"dataframe\">\n",
       "  <thead>\n",
       "    <tr style=\"text-align: right;\">\n",
       "      <th></th>\n",
       "      <th>alpha:0</th>\n",
       "      <th>alpha:0.1</th>\n",
       "      <th>alpha:1</th>\n",
       "      <th>alpha:10</th>\n",
       "      <th>alpha:100</th>\n",
       "    </tr>\n",
       "  </thead>\n",
       "  <tbody>\n",
       "    <tr>\n",
       "      <th>RM</th>\n",
       "      <td>3.804752</td>\n",
       "      <td>3.813177</td>\n",
       "      <td>3.849256</td>\n",
       "      <td>3.698132</td>\n",
       "      <td>2.331966</td>\n",
       "    </tr>\n",
       "    <tr>\n",
       "      <th>CHAS</th>\n",
       "      <td>2.688561</td>\n",
       "      <td>2.671849</td>\n",
       "      <td>2.554221</td>\n",
       "      <td>1.953452</td>\n",
       "      <td>0.638647</td>\n",
       "    </tr>\n",
       "    <tr>\n",
       "      <th>RAD</th>\n",
       "      <td>0.305655</td>\n",
       "      <td>0.303105</td>\n",
       "      <td>0.289650</td>\n",
       "      <td>0.279016</td>\n",
       "      <td>0.314915</td>\n",
       "    </tr>\n",
       "    <tr>\n",
       "      <th>ZN</th>\n",
       "      <td>0.046395</td>\n",
       "      <td>0.046546</td>\n",
       "      <td>0.047414</td>\n",
       "      <td>0.049547</td>\n",
       "      <td>0.054470</td>\n",
       "    </tr>\n",
       "    <tr>\n",
       "      <th>INDUS</th>\n",
       "      <td>0.020860</td>\n",
       "      <td>0.016293</td>\n",
       "      <td>-0.008547</td>\n",
       "      <td>-0.042745</td>\n",
       "      <td>-0.052626</td>\n",
       "    </tr>\n",
       "    <tr>\n",
       "      <th>B</th>\n",
       "      <td>0.009393</td>\n",
       "      <td>0.009449</td>\n",
       "      <td>0.009754</td>\n",
       "      <td>0.010117</td>\n",
       "      <td>0.009471</td>\n",
       "    </tr>\n",
       "    <tr>\n",
       "      <th>AGE</th>\n",
       "      <td>0.000751</td>\n",
       "      <td>-0.000212</td>\n",
       "      <td>-0.005368</td>\n",
       "      <td>-0.010674</td>\n",
       "      <td>0.001230</td>\n",
       "    </tr>\n",
       "    <tr>\n",
       "      <th>TAX</th>\n",
       "      <td>-0.012329</td>\n",
       "      <td>-0.012415</td>\n",
       "      <td>-0.012907</td>\n",
       "      <td>-0.013989</td>\n",
       "      <td>-0.015852</td>\n",
       "    </tr>\n",
       "    <tr>\n",
       "      <th>CRIM</th>\n",
       "      <td>-0.107171</td>\n",
       "      <td>-0.106612</td>\n",
       "      <td>-0.103622</td>\n",
       "      <td>-0.100352</td>\n",
       "      <td>-0.101451</td>\n",
       "    </tr>\n",
       "    <tr>\n",
       "      <th>LSTAT</th>\n",
       "      <td>-0.525467</td>\n",
       "      <td>-0.526678</td>\n",
       "      <td>-0.534072</td>\n",
       "      <td>-0.560097</td>\n",
       "      <td>-0.661312</td>\n",
       "    </tr>\n",
       "    <tr>\n",
       "      <th>PTRATIO</th>\n",
       "      <td>-0.953464</td>\n",
       "      <td>-0.941449</td>\n",
       "      <td>-0.876633</td>\n",
       "      <td>-0.798335</td>\n",
       "      <td>-0.829503</td>\n",
       "    </tr>\n",
       "    <tr>\n",
       "      <th>DIS</th>\n",
       "      <td>-1.475759</td>\n",
       "      <td>-1.459773</td>\n",
       "      <td>-1.372570</td>\n",
       "      <td>-1.248455</td>\n",
       "      <td>-1.153157</td>\n",
       "    </tr>\n",
       "    <tr>\n",
       "      <th>NOX</th>\n",
       "      <td>-17.795759</td>\n",
       "      <td>-16.711712</td>\n",
       "      <td>-10.793436</td>\n",
       "      <td>-2.374959</td>\n",
       "      <td>-0.263245</td>\n",
       "    </tr>\n",
       "  </tbody>\n",
       "</table>\n",
       "</div>"
      ],
      "text/plain": [
       "           alpha:0  alpha:0.1    alpha:1  alpha:10  alpha:100\n",
       "RM        3.804752   3.813177   3.849256  3.698132   2.331966\n",
       "CHAS      2.688561   2.671849   2.554221  1.953452   0.638647\n",
       "RAD       0.305655   0.303105   0.289650  0.279016   0.314915\n",
       "ZN        0.046395   0.046546   0.047414  0.049547   0.054470\n",
       "INDUS     0.020860   0.016293  -0.008547 -0.042745  -0.052626\n",
       "B         0.009393   0.009449   0.009754  0.010117   0.009471\n",
       "AGE       0.000751  -0.000212  -0.005368 -0.010674   0.001230\n",
       "TAX      -0.012329  -0.012415  -0.012907 -0.013989  -0.015852\n",
       "CRIM     -0.107171  -0.106612  -0.103622 -0.100352  -0.101451\n",
       "LSTAT    -0.525467  -0.526678  -0.534072 -0.560097  -0.661312\n",
       "PTRATIO  -0.953464  -0.941449  -0.876633 -0.798335  -0.829503\n",
       "DIS      -1.475759  -1.459773  -1.372570 -1.248455  -1.153157\n",
       "NOX     -17.795759 -16.711712 -10.793436 -2.374959  -0.263245"
      ]
     },
     "execution_count": 30,
     "metadata": {},
     "output_type": "execute_result"
    }
   ],
   "source": [
    "ridge_alphas = [0,0.1,1,10,100]\n",
    "sort_column = 'alpha:'+str(ridge_alphas[0])\n",
    "coeff_df.sort_values(by=sort_column, ascending = False)"
   ]
  },
  {
   "cell_type": "markdown",
   "metadata": {},
   "source": [
    "### 라쏘 회귀"
   ]
  },
  {
   "cell_type": "markdown",
   "metadata": {},
   "source": [
    "- L1규제를 사용한 회귀\n",
    "- 불필요한 회귀 계수를 급격하게 감소시켜 0으로 만들고 제거(피쳐 셀렉션의 효과도 있음)"
   ]
  },
  {
   "cell_type": "code",
   "execution_count": 34,
   "metadata": {},
   "outputs": [],
   "source": [
    "from sklearn.linear_model import Lasso, ElasticNet\n",
    "\n",
    "# alpha 값에 따른 회귀 모델의 폴드 평균 RMSE를 출력하고 회귀 계수값들을 DataFrame으로 반환\n",
    "def get_linear_reg_eval(model_name, params=None, X_data_n = None, y_target_n = None, verbose = True):\n",
    "    coeff_df = pd.DataFrame()\n",
    "    if verbose: \n",
    "        print(\"######\",model_name ,\"######\")\n",
    "    for param in params:\n",
    "        if model_name =='Ridge':\n",
    "            model = Ridge(alpha=param)\n",
    "        elif model_name =='Lasso':\n",
    "            model = Lasso(alpha=param)\n",
    "        elif model_name =='ElasticNet':\n",
    "            model = ElasticNet(alpha=param, l1_ratio=0.7)\n",
    "        neg_mse_scores = cross_val_score(model, X_data_n, y_target_n, scoring = 'neg_mean_squared_error',cv = 5)\n",
    "        avg_rmse = np.mean(np.sqrt(-1*neg_mse_scores))\n",
    "        print('alpha {0}일 때 5폴드 세트의 평균  RMSE: {1:.3f}'.format(param,avg_rmse))\n",
    "\n",
    "        # cross_val_score는 evaluation metric만 반환하므로 모델을 다시 학습하여 회귀 계수 추출\n",
    "        model.fit(X_data, y_target)\n",
    "\n",
    "        # alpha에 따른 피처별 회귀계수를 Series로 변환하고 이를 DataFrame에 컬럼으로 추가\n",
    "        coeff = pd.Series(data = model.coef_, index = X_data.columns)\n",
    "        colname = 'alpha:'+str(param)\n",
    "        coeff_df[colname] = coeff\n",
    "    \n",
    "    return coeff_df"
   ]
  },
  {
   "cell_type": "code",
   "execution_count": 36,
   "metadata": {},
   "outputs": [
    {
     "name": "stdout",
     "output_type": "stream",
     "text": [
      "###### Lasso ######\n",
      "alpha 0.07일 때 5폴드 세트의 평균  RMSE: 5.618\n",
      "alpha 0.1일 때 5폴드 세트의 평균  RMSE: 5.621\n",
      "alpha 0.5일 때 5폴드 세트의 평균  RMSE: 5.672\n",
      "alpha 1일 때 5폴드 세트의 평균  RMSE: 5.776\n",
      "alpha 3일 때 5폴드 세트의 평균  RMSE: 6.189\n"
     ]
    }
   ],
   "source": [
    "# 라쏘에 사용될 alpha 파라미터의 값들을 정의하고 get_linear_reg_eval() 함수 호출\n",
    "lasso_alphas = [0.07,0.1,0.5,1,3]\n",
    "coeff_lasso_df = get_linear_reg_eval('Lasso',params = lasso_alphas, X_data_n = X_data, y_target_n=y_target)"
   ]
  },
  {
   "cell_type": "code",
   "execution_count": 38,
   "metadata": {},
   "outputs": [
    {
     "data": {
      "text/html": [
       "<div>\n",
       "<style scoped>\n",
       "    .dataframe tbody tr th:only-of-type {\n",
       "        vertical-align: middle;\n",
       "    }\n",
       "\n",
       "    .dataframe tbody tr th {\n",
       "        vertical-align: top;\n",
       "    }\n",
       "\n",
       "    .dataframe thead th {\n",
       "        text-align: right;\n",
       "    }\n",
       "</style>\n",
       "<table border=\"1\" class=\"dataframe\">\n",
       "  <thead>\n",
       "    <tr style=\"text-align: right;\">\n",
       "      <th></th>\n",
       "      <th>alpha:0.07</th>\n",
       "      <th>alpha:0.1</th>\n",
       "      <th>alpha:0.5</th>\n",
       "      <th>alpha:1</th>\n",
       "      <th>alpha:3</th>\n",
       "    </tr>\n",
       "  </thead>\n",
       "  <tbody>\n",
       "    <tr>\n",
       "      <th>RM</th>\n",
       "      <td>3.785460</td>\n",
       "      <td>3.698943</td>\n",
       "      <td>2.494509</td>\n",
       "      <td>0.946786</td>\n",
       "      <td>0.000000</td>\n",
       "    </tr>\n",
       "    <tr>\n",
       "      <th>CHAS</th>\n",
       "      <td>1.436287</td>\n",
       "      <td>0.957097</td>\n",
       "      <td>0.000000</td>\n",
       "      <td>0.000000</td>\n",
       "      <td>0.000000</td>\n",
       "    </tr>\n",
       "    <tr>\n",
       "      <th>RAD</th>\n",
       "      <td>0.270327</td>\n",
       "      <td>0.274112</td>\n",
       "      <td>0.277118</td>\n",
       "      <td>0.264175</td>\n",
       "      <td>0.061867</td>\n",
       "    </tr>\n",
       "    <tr>\n",
       "      <th>ZN</th>\n",
       "      <td>0.049026</td>\n",
       "      <td>0.049179</td>\n",
       "      <td>0.049528</td>\n",
       "      <td>0.049169</td>\n",
       "      <td>0.037231</td>\n",
       "    </tr>\n",
       "    <tr>\n",
       "      <th>B</th>\n",
       "      <td>0.010326</td>\n",
       "      <td>0.010327</td>\n",
       "      <td>0.009532</td>\n",
       "      <td>0.008291</td>\n",
       "      <td>0.006510</td>\n",
       "    </tr>\n",
       "    <tr>\n",
       "      <th>NOX</th>\n",
       "      <td>-0.000000</td>\n",
       "      <td>-0.000000</td>\n",
       "      <td>-0.000000</td>\n",
       "      <td>-0.000000</td>\n",
       "      <td>0.000000</td>\n",
       "    </tr>\n",
       "    <tr>\n",
       "      <th>AGE</th>\n",
       "      <td>-0.011675</td>\n",
       "      <td>-0.010006</td>\n",
       "      <td>0.003630</td>\n",
       "      <td>0.020927</td>\n",
       "      <td>0.042495</td>\n",
       "    </tr>\n",
       "    <tr>\n",
       "      <th>TAX</th>\n",
       "      <td>-0.014287</td>\n",
       "      <td>-0.014567</td>\n",
       "      <td>-0.015440</td>\n",
       "      <td>-0.015209</td>\n",
       "      <td>-0.008602</td>\n",
       "    </tr>\n",
       "    <tr>\n",
       "      <th>INDUS</th>\n",
       "      <td>-0.041924</td>\n",
       "      <td>-0.036425</td>\n",
       "      <td>-0.005109</td>\n",
       "      <td>-0.000000</td>\n",
       "      <td>-0.000000</td>\n",
       "    </tr>\n",
       "    <tr>\n",
       "      <th>CRIM</th>\n",
       "      <td>-0.097061</td>\n",
       "      <td>-0.096788</td>\n",
       "      <td>-0.082662</td>\n",
       "      <td>-0.063423</td>\n",
       "      <td>-0.000000</td>\n",
       "    </tr>\n",
       "    <tr>\n",
       "      <th>LSTAT</th>\n",
       "      <td>-0.561179</td>\n",
       "      <td>-0.569509</td>\n",
       "      <td>-0.656853</td>\n",
       "      <td>-0.761433</td>\n",
       "      <td>-0.807679</td>\n",
       "    </tr>\n",
       "    <tr>\n",
       "      <th>PTRATIO</th>\n",
       "      <td>-0.765456</td>\n",
       "      <td>-0.771003</td>\n",
       "      <td>-0.759070</td>\n",
       "      <td>-0.723199</td>\n",
       "      <td>-0.265072</td>\n",
       "    </tr>\n",
       "    <tr>\n",
       "      <th>DIS</th>\n",
       "      <td>-1.176150</td>\n",
       "      <td>-1.160121</td>\n",
       "      <td>-0.936447</td>\n",
       "      <td>-0.669009</td>\n",
       "      <td>-0.000000</td>\n",
       "    </tr>\n",
       "  </tbody>\n",
       "</table>\n",
       "</div>"
      ],
      "text/plain": [
       "         alpha:0.07  alpha:0.1  alpha:0.5   alpha:1   alpha:3\n",
       "RM         3.785460   3.698943   2.494509  0.946786  0.000000\n",
       "CHAS       1.436287   0.957097   0.000000  0.000000  0.000000\n",
       "RAD        0.270327   0.274112   0.277118  0.264175  0.061867\n",
       "ZN         0.049026   0.049179   0.049528  0.049169  0.037231\n",
       "B          0.010326   0.010327   0.009532  0.008291  0.006510\n",
       "NOX       -0.000000  -0.000000  -0.000000 -0.000000  0.000000\n",
       "AGE       -0.011675  -0.010006   0.003630  0.020927  0.042495\n",
       "TAX       -0.014287  -0.014567  -0.015440 -0.015209 -0.008602\n",
       "INDUS     -0.041924  -0.036425  -0.005109 -0.000000 -0.000000\n",
       "CRIM      -0.097061  -0.096788  -0.082662 -0.063423 -0.000000\n",
       "LSTAT     -0.561179  -0.569509  -0.656853 -0.761433 -0.807679\n",
       "PTRATIO   -0.765456  -0.771003  -0.759070 -0.723199 -0.265072\n",
       "DIS       -1.176150  -1.160121  -0.936447 -0.669009 -0.000000"
      ]
     },
     "execution_count": 38,
     "metadata": {},
     "output_type": "execute_result"
    }
   ],
   "source": [
    "# 반환된 coeff_lasso_df를 첫번째 컬럼순으로 내림차순 정렬하여 회귀계수 DataFrame 출력\n",
    "coeff_lasso_df.sort_values(by=coeff_lasso_df.columns[0], ascending = False)"
   ]
  },
  {
   "cell_type": "markdown",
   "metadata": {},
   "source": [
    "### 엘라스틱넷 회귀"
   ]
  },
  {
   "cell_type": "markdown",
   "metadata": {},
   "source": [
    "- L1과 L2규제를 결합한 회귀\n",
    "- 파라미터는 alpha와 l1_ratio가 있음\n",
    "- Ridge나 Lasso회귀의 alpha와는 다름\n",
    "- l1_ratio = l1_alpha / (l1_alpha + l2_alpha)"
   ]
  },
  {
   "cell_type": "code",
   "execution_count": 39,
   "metadata": {},
   "outputs": [
    {
     "name": "stdout",
     "output_type": "stream",
     "text": [
      "###### ElasticNet ######\n",
      "alpha 0.07일 때 5폴드 세트의 평균  RMSE: 5.546\n",
      "alpha 0.1일 때 5폴드 세트의 평균  RMSE: 5.530\n",
      "alpha 0.5일 때 5폴드 세트의 평균  RMSE: 5.468\n",
      "alpha 1일 때 5폴드 세트의 평균  RMSE: 5.596\n",
      "alpha 3일 때 5폴드 세트의 평균  RMSE: 6.068\n"
     ]
    }
   ],
   "source": [
    "# 엘라스틱넷에 사용될 alpha 파라미터의 값들을 정의하고 get_linear_reg_eval() 함수 호출\n",
    "# l1_ratio는 0.7fh rhwjd\n",
    "elastic_alphas = [0.07,0.1,0.5,1,3]\n",
    "coeff_elastic_df = get_linear_reg_eval('ElasticNet', params = elastic_alphas,\n",
    "                                      X_data_n = X_data, y_target_n = y_target)\n"
   ]
  },
  {
   "cell_type": "code",
   "execution_count": 40,
   "metadata": {},
   "outputs": [
    {
     "data": {
      "text/html": [
       "<div>\n",
       "<style scoped>\n",
       "    .dataframe tbody tr th:only-of-type {\n",
       "        vertical-align: middle;\n",
       "    }\n",
       "\n",
       "    .dataframe tbody tr th {\n",
       "        vertical-align: top;\n",
       "    }\n",
       "\n",
       "    .dataframe thead th {\n",
       "        text-align: right;\n",
       "    }\n",
       "</style>\n",
       "<table border=\"1\" class=\"dataframe\">\n",
       "  <thead>\n",
       "    <tr style=\"text-align: right;\">\n",
       "      <th></th>\n",
       "      <th>alpha:0.07</th>\n",
       "      <th>alpha:0.1</th>\n",
       "      <th>alpha:0.5</th>\n",
       "      <th>alpha:1</th>\n",
       "      <th>alpha:3</th>\n",
       "    </tr>\n",
       "  </thead>\n",
       "  <tbody>\n",
       "    <tr>\n",
       "      <th>RM</th>\n",
       "      <td>3.570126</td>\n",
       "      <td>3.410274</td>\n",
       "      <td>1.915894</td>\n",
       "      <td>0.937179</td>\n",
       "      <td>0.000000</td>\n",
       "    </tr>\n",
       "    <tr>\n",
       "      <th>CHAS</th>\n",
       "      <td>1.332117</td>\n",
       "      <td>0.980900</td>\n",
       "      <td>0.000000</td>\n",
       "      <td>0.000000</td>\n",
       "      <td>0.000000</td>\n",
       "    </tr>\n",
       "    <tr>\n",
       "      <th>RAD</th>\n",
       "      <td>0.278304</td>\n",
       "      <td>0.282881</td>\n",
       "      <td>0.300449</td>\n",
       "      <td>0.289167</td>\n",
       "      <td>0.147089</td>\n",
       "    </tr>\n",
       "    <tr>\n",
       "      <th>ZN</th>\n",
       "      <td>0.050074</td>\n",
       "      <td>0.050586</td>\n",
       "      <td>0.052860</td>\n",
       "      <td>0.052126</td>\n",
       "      <td>0.038281</td>\n",
       "    </tr>\n",
       "    <tr>\n",
       "      <th>B</th>\n",
       "      <td>0.010200</td>\n",
       "      <td>0.010145</td>\n",
       "      <td>0.009182</td>\n",
       "      <td>0.008373</td>\n",
       "      <td>0.007029</td>\n",
       "    </tr>\n",
       "    <tr>\n",
       "      <th>AGE</th>\n",
       "      <td>-0.010084</td>\n",
       "      <td>-0.008248</td>\n",
       "      <td>0.007777</td>\n",
       "      <td>0.020360</td>\n",
       "      <td>0.043445</td>\n",
       "    </tr>\n",
       "    <tr>\n",
       "      <th>TAX</th>\n",
       "      <td>-0.014519</td>\n",
       "      <td>-0.014810</td>\n",
       "      <td>-0.016044</td>\n",
       "      <td>-0.016213</td>\n",
       "      <td>-0.011417</td>\n",
       "    </tr>\n",
       "    <tr>\n",
       "      <th>INDUS</th>\n",
       "      <td>-0.044641</td>\n",
       "      <td>-0.042520</td>\n",
       "      <td>-0.023093</td>\n",
       "      <td>-0.000000</td>\n",
       "      <td>-0.000000</td>\n",
       "    </tr>\n",
       "    <tr>\n",
       "      <th>CRIM</th>\n",
       "      <td>-0.098392</td>\n",
       "      <td>-0.098179</td>\n",
       "      <td>-0.088550</td>\n",
       "      <td>-0.073471</td>\n",
       "      <td>-0.019596</td>\n",
       "    </tr>\n",
       "    <tr>\n",
       "      <th>NOX</th>\n",
       "      <td>-0.178164</td>\n",
       "      <td>-0.000000</td>\n",
       "      <td>-0.000000</td>\n",
       "      <td>-0.000000</td>\n",
       "      <td>-0.000000</td>\n",
       "    </tr>\n",
       "    <tr>\n",
       "      <th>LSTAT</th>\n",
       "      <td>-0.575540</td>\n",
       "      <td>-0.588404</td>\n",
       "      <td>-0.694327</td>\n",
       "      <td>-0.760714</td>\n",
       "      <td>-0.800276</td>\n",
       "    </tr>\n",
       "    <tr>\n",
       "      <th>PTRATIO</th>\n",
       "      <td>-0.779878</td>\n",
       "      <td>-0.785066</td>\n",
       "      <td>-0.791232</td>\n",
       "      <td>-0.738850</td>\n",
       "      <td>-0.423093</td>\n",
       "    </tr>\n",
       "    <tr>\n",
       "      <th>DIS</th>\n",
       "      <td>-1.189080</td>\n",
       "      <td>-1.173268</td>\n",
       "      <td>-0.975771</td>\n",
       "      <td>-0.725297</td>\n",
       "      <td>-0.031389</td>\n",
       "    </tr>\n",
       "  </tbody>\n",
       "</table>\n",
       "</div>"
      ],
      "text/plain": [
       "         alpha:0.07  alpha:0.1  alpha:0.5   alpha:1   alpha:3\n",
       "RM         3.570126   3.410274   1.915894  0.937179  0.000000\n",
       "CHAS       1.332117   0.980900   0.000000  0.000000  0.000000\n",
       "RAD        0.278304   0.282881   0.300449  0.289167  0.147089\n",
       "ZN         0.050074   0.050586   0.052860  0.052126  0.038281\n",
       "B          0.010200   0.010145   0.009182  0.008373  0.007029\n",
       "AGE       -0.010084  -0.008248   0.007777  0.020360  0.043445\n",
       "TAX       -0.014519  -0.014810  -0.016044 -0.016213 -0.011417\n",
       "INDUS     -0.044641  -0.042520  -0.023093 -0.000000 -0.000000\n",
       "CRIM      -0.098392  -0.098179  -0.088550 -0.073471 -0.019596\n",
       "NOX       -0.178164  -0.000000  -0.000000 -0.000000 -0.000000\n",
       "LSTAT     -0.575540  -0.588404  -0.694327 -0.760714 -0.800276\n",
       "PTRATIO   -0.779878  -0.785066  -0.791232 -0.738850 -0.423093\n",
       "DIS       -1.189080  -1.173268  -0.975771 -0.725297 -0.031389"
      ]
     },
     "execution_count": 40,
     "metadata": {},
     "output_type": "execute_result"
    }
   ],
   "source": [
    "# 반횐된 coeff_elstic_df를 첫번째 컬럼순으로 내림차순 정렬\n",
    "coeff_elastic_df.sort_values(by=coeff_elastic_df.columns[0], ascending=  False)"
   ]
  },
  {
   "cell_type": "markdown",
   "metadata": {},
   "source": [
    "### 선형회귀 모델을 위한 데이터 변환"
   ]
  },
  {
   "cell_type": "markdown",
   "metadata": {},
   "source": [
    "- 데이터 분포도의 정규화와 인코딩방법에 따라 예측성능이 좌우됨\n",
    "- 선형회귀 모델은 피쳐와 타깃값의 분포가 정규 분포형태를 따르는 것을 선호\n",
    "- 왜곡된 형태의 분포의 경우 예측성능에 부정적인 영향을 줌\n",
    "- 따라서 데이터에 대한 스케일링/ 정규화 작업이 선행되어야 함\n",
    "\n",
    "> 대표적인 변환작업\n",
    "> 1. StandardScaler로 0과 1사이의 값을 표준정규 분포로 변환하거나 MinMaxScaler를 이용해 최소가 0 최대가 1인 값으로 정규화 수행\n",
    "> 2. 스케일링/정규화를 수행한 데이터 세트에 다시 다항(Polynimial)특성을 적용하여 변환\n",
    "> 3. 원래값에 log를 적용(가장 많이 쓰이는 방법 / 타깃값에 주로 쓰임) "
   ]
  },
  {
   "cell_type": "code",
   "execution_count": 41,
   "metadata": {},
   "outputs": [],
   "source": [
    "from sklearn.preprocessing import StandardScaler, MinMaxScaler, PolynomialFeatures\n",
    "\n",
    "# method는 표준 정규 분포 변환(Standard), 최대값/최소값 정규화(MinMax), 로그변환(Log) 결정\n",
    "# p_degree는 다항식 특성을 추가할 때 적용, p_degree는 2이상 부여하지 않음.\n",
    "def get_scaled_data(method = 'None', p_degree = None, input_data = None):\n",
    "    if method == 'Standard':\n",
    "        scaled_data = StandardScaler().fit_transform(input_data)\n",
    "    elif method == 'MinMax':\n",
    "        scaled_data = MinMaxScaler().fit_transform(input_data)\n",
    "    elif method == 'Log':\n",
    "        scaled_data = np.log1p(input_data)\n",
    "    else:\n",
    "        scaled_data = input_data\n",
    "    \n",
    "    if p_degree != None:\n",
    "        scaled_data = PolynomialFeatures(degree = p_degree, \n",
    "                                         include_bias = False).fit_transform(scaled_data)\n",
    "    return scaled_data    "
   ]
  },
  {
   "cell_type": "code",
   "execution_count": 42,
   "metadata": {},
   "outputs": [
    {
     "name": "stdout",
     "output_type": "stream",
     "text": [
      "\n",
      "## 변환 유형:None, Polynomial Degree:None\n",
      "alpha 0.1일 때 5폴드 세트의 평균  RMSE: 5.796\n",
      "alpha 1일 때 5폴드 세트의 평균  RMSE: 5.659\n",
      "alpha 10일 때 5폴드 세트의 평균  RMSE: 5.524\n",
      "alpha 100일 때 5폴드 세트의 평균  RMSE: 5.332\n",
      "\n",
      "## 변환 유형:Standard, Polynomial Degree:None\n",
      "alpha 0.1일 때 5폴드 세트의 평균  RMSE: 5.834\n",
      "alpha 1일 때 5폴드 세트의 평균  RMSE: 5.810\n",
      "alpha 10일 때 5폴드 세트의 평균  RMSE: 5.643\n",
      "alpha 100일 때 5폴드 세트의 평균  RMSE: 5.424\n",
      "\n",
      "## 변환 유형:Standard, Polynomial Degree:2\n",
      "alpha 0.1일 때 5폴드 세트의 평균  RMSE: 8.776\n",
      "alpha 1일 때 5폴드 세트의 평균  RMSE: 6.849\n",
      "alpha 10일 때 5폴드 세트의 평균  RMSE: 5.487\n",
      "alpha 100일 때 5폴드 세트의 평균  RMSE: 4.631\n",
      "\n",
      "## 변환 유형:MinMax, Polynomial Degree:None\n",
      "alpha 0.1일 때 5폴드 세트의 평균  RMSE: 5.770\n",
      "alpha 1일 때 5폴드 세트의 평균  RMSE: 5.468\n",
      "alpha 10일 때 5폴드 세트의 평균  RMSE: 5.755\n",
      "alpha 100일 때 5폴드 세트의 평균  RMSE: 7.635\n",
      "\n",
      "## 변환 유형:MinMax, Polynomial Degree:2\n",
      "alpha 0.1일 때 5폴드 세트의 평균  RMSE: 5.294\n",
      "alpha 1일 때 5폴드 세트의 평균  RMSE: 4.320\n",
      "alpha 10일 때 5폴드 세트의 평균  RMSE: 5.186\n",
      "alpha 100일 때 5폴드 세트의 평균  RMSE: 6.538\n",
      "\n",
      "## 변환 유형:Log, Polynomial Degree:None\n",
      "alpha 0.1일 때 5폴드 세트의 평균  RMSE: 4.772\n",
      "alpha 1일 때 5폴드 세트의 평균  RMSE: 4.676\n",
      "alpha 10일 때 5폴드 세트의 평균  RMSE: 4.835\n",
      "alpha 100일 때 5폴드 세트의 평균  RMSE: 6.244\n"
     ]
    }
   ],
   "source": [
    "# Ridge의 alpha값을 다르게 적용하고 다양한 데이터 변환방법에 따른 RMSE 추출\n",
    "alphas = [0.1,1,10,100]\n",
    "# 변환방법은 모두 6개\n",
    "# 1. 원본그대로 2. 표준정규분포 3. 표준정규분포+다항식\n",
    "# 4. 최대/최소 정규화, 5.최대/최소 정규화 + 다항식 특성 6. 로그변환\n",
    "scale_methods = [(None,None),('Standard',None),('Standard',2),\n",
    "                ('MinMax',None),('MinMax',2),('Log',None)]\n",
    "for scale_method in scale_methods:\n",
    "    X_data_scaled = get_scaled_data(method = scale_method[0], p_degree=scale_method[1],\n",
    "                                   input_data=X_data)\n",
    "    print('\\n## 변환 유형:{0}, Polynomial Degree:{1}'.format(scale_method[0],scale_method[1]))\n",
    "    get_linear_reg_eval(\"Ridge\", params=alphas, X_data_n=X_data_scaled,\n",
    "                       y_target_n=y_target,verbose = False)"
   ]
  },
  {
   "cell_type": "markdown",
   "metadata": {},
   "source": [
    "결과  \n",
    "- 로그변환은 전체적으로 성능이 나아짐을 볼 수 있다\n",
    "- 표준 정규분포와 민맥스 변환은 성능에 큰 변화를 주지 못했다"
   ]
  }
 ],
 "metadata": {
  "kernelspec": {
   "display_name": "Python 3",
   "language": "python",
   "name": "python3"
  },
  "language_info": {
   "codemirror_mode": {
    "name": "ipython",
    "version": 3
   },
   "file_extension": ".py",
   "mimetype": "text/x-python",
   "name": "python",
   "nbconvert_exporter": "python",
   "pygments_lexer": "ipython3",
   "version": "3.7.5"
  }
 },
 "nbformat": 4,
 "nbformat_minor": 2
}
