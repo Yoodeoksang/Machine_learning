{
 "cells": [
  {
   "cell_type": "markdown",
   "metadata": {},
   "source": [
    "## LGBM(Light GBM)"
   ]
  },
  {
   "cell_type": "markdown",
   "metadata": {},
   "source": [
    "- XGB보다 훨씬 학습에 걸리는 시간과 메모리 사용량 적음\n",
    "- 예측성능은 떨어지지 않으나 더 많은 기능을 제공함\n",
    "- 유일한 **단점은 적은 데이터 세트에는 과적합을 일으킴**\n",
    "- 다른 GBM계열 알고리즘과는 다르게 균형트리분할이 아닌 리프중심트리분할 사용\n",
    "> **균형트리분할** : 최대한 균형잡힌 트리를 유지하면서 트리의 깊이를 최소화 하는 것 => 오버피팅에 강하지만 상대적으로 시간이 많이 필요함   \n",
    "> \n",
    "> **리프중심트리분할** : 최대손실값을 가지는 리프노드를 지속적으로 분할 => 비대칭적인 트리구조를 가지지만 오류손실을 최소화할 수 있음\n",
    "- GPU까지 지원이 됨"
   ]
  },
  {
   "cell_type": "markdown",
   "metadata": {},
   "source": [
    "### 기본적인 튜닝 방안\n",
    "- 1. num_leaves의 개수를 중심으로 한다\n",
    "- 2. min_child_samples와 max_depth를 함께 조정한다\n",
    "- 3. 모델복잡도를 줄인다"
   ]
  },
  {
   "cell_type": "code",
   "execution_count": 1,
   "metadata": {},
   "outputs": [
    {
     "name": "stdout",
     "output_type": "stream",
     "text": [
      "2.3.0\n"
     ]
    }
   ],
   "source": [
    "# lightgbm 버전확인\n",
    "import lightgbm\n",
    "print(lightgbm.__version__)"
   ]
  },
  {
   "cell_type": "code",
   "execution_count": 2,
   "metadata": {},
   "outputs": [
    {
     "name": "stderr",
     "output_type": "stream",
     "text": [
      "C:\\Users\\82109\\Anaconda3\\lib\\site-packages\\sklearn\\feature_extraction\\text.py:17: DeprecationWarning: Using or importing the ABCs from 'collections' instead of from 'collections.abc' is deprecated since Python 3.3,and in 3.9 it will stop working\n",
      "  from collections import Mapping, defaultdict\n"
     ]
    },
    {
     "name": "stdout",
     "output_type": "stream",
     "text": [
      "[1]\tvalid_0's binary_logloss: 0.565079\n",
      "Training until validation scores don't improve for 100 rounds\n",
      "[2]\tvalid_0's binary_logloss: 0.507451\n",
      "[3]\tvalid_0's binary_logloss: 0.458489\n",
      "[4]\tvalid_0's binary_logloss: 0.417481\n",
      "[5]\tvalid_0's binary_logloss: 0.385507\n",
      "[6]\tvalid_0's binary_logloss: 0.355846\n",
      "[7]\tvalid_0's binary_logloss: 0.330897\n",
      "[8]\tvalid_0's binary_logloss: 0.306923\n",
      "[9]\tvalid_0's binary_logloss: 0.28776\n",
      "[10]\tvalid_0's binary_logloss: 0.26917\n",
      "[11]\tvalid_0's binary_logloss: 0.250954\n",
      "[12]\tvalid_0's binary_logloss: 0.23847\n",
      "[13]\tvalid_0's binary_logloss: 0.225865\n",
      "[14]\tvalid_0's binary_logloss: 0.215076\n",
      "[15]\tvalid_0's binary_logloss: 0.205996\n",
      "[16]\tvalid_0's binary_logloss: 0.196091\n",
      "[17]\tvalid_0's binary_logloss: 0.186395\n",
      "[18]\tvalid_0's binary_logloss: 0.17942\n",
      "[19]\tvalid_0's binary_logloss: 0.174727\n",
      "[20]\tvalid_0's binary_logloss: 0.168563\n",
      "[21]\tvalid_0's binary_logloss: 0.165432\n",
      "[22]\tvalid_0's binary_logloss: 0.160356\n",
      "[23]\tvalid_0's binary_logloss: 0.155508\n",
      "[24]\tvalid_0's binary_logloss: 0.151598\n",
      "[25]\tvalid_0's binary_logloss: 0.149861\n",
      "[26]\tvalid_0's binary_logloss: 0.149873\n",
      "[27]\tvalid_0's binary_logloss: 0.147032\n",
      "[28]\tvalid_0's binary_logloss: 0.145077\n",
      "[29]\tvalid_0's binary_logloss: 0.139891\n",
      "[30]\tvalid_0's binary_logloss: 0.137416\n",
      "[31]\tvalid_0's binary_logloss: 0.138393\n",
      "[32]\tvalid_0's binary_logloss: 0.135948\n",
      "[33]\tvalid_0's binary_logloss: 0.132968\n",
      "[34]\tvalid_0's binary_logloss: 0.129697\n",
      "[35]\tvalid_0's binary_logloss: 0.131102\n",
      "[36]\tvalid_0's binary_logloss: 0.129382\n",
      "[37]\tvalid_0's binary_logloss: 0.128044\n",
      "[38]\tvalid_0's binary_logloss: 0.127325\n",
      "[39]\tvalid_0's binary_logloss: 0.128091\n",
      "[40]\tvalid_0's binary_logloss: 0.129045\n",
      "[41]\tvalid_0's binary_logloss: 0.127023\n",
      "[42]\tvalid_0's binary_logloss: 0.129314\n",
      "[43]\tvalid_0's binary_logloss: 0.129175\n",
      "[44]\tvalid_0's binary_logloss: 0.128212\n",
      "[45]\tvalid_0's binary_logloss: 0.126664\n",
      "[46]\tvalid_0's binary_logloss: 0.127662\n",
      "[47]\tvalid_0's binary_logloss: 0.126108\n",
      "[48]\tvalid_0's binary_logloss: 0.129371\n",
      "[49]\tvalid_0's binary_logloss: 0.129573\n",
      "[50]\tvalid_0's binary_logloss: 0.130876\n",
      "[51]\tvalid_0's binary_logloss: 0.131366\n",
      "[52]\tvalid_0's binary_logloss: 0.131336\n",
      "[53]\tvalid_0's binary_logloss: 0.13208\n",
      "[54]\tvalid_0's binary_logloss: 0.13306\n",
      "[55]\tvalid_0's binary_logloss: 0.132342\n",
      "[56]\tvalid_0's binary_logloss: 0.134836\n",
      "[57]\tvalid_0's binary_logloss: 0.135208\n",
      "[58]\tvalid_0's binary_logloss: 0.13328\n",
      "[59]\tvalid_0's binary_logloss: 0.134147\n",
      "[60]\tvalid_0's binary_logloss: 0.134549\n",
      "[61]\tvalid_0's binary_logloss: 0.133202\n",
      "[62]\tvalid_0's binary_logloss: 0.135726\n",
      "[63]\tvalid_0's binary_logloss: 0.134011\n",
      "[64]\tvalid_0's binary_logloss: 0.131493\n",
      "[65]\tvalid_0's binary_logloss: 0.134114\n",
      "[66]\tvalid_0's binary_logloss: 0.134525\n",
      "[67]\tvalid_0's binary_logloss: 0.131412\n",
      "[68]\tvalid_0's binary_logloss: 0.12878\n",
      "[69]\tvalid_0's binary_logloss: 0.129571\n",
      "[70]\tvalid_0's binary_logloss: 0.129671\n",
      "[71]\tvalid_0's binary_logloss: 0.129935\n",
      "[72]\tvalid_0's binary_logloss: 0.128951\n",
      "[73]\tvalid_0's binary_logloss: 0.128977\n",
      "[74]\tvalid_0's binary_logloss: 0.127121\n",
      "[75]\tvalid_0's binary_logloss: 0.128107\n",
      "[76]\tvalid_0's binary_logloss: 0.129796\n",
      "[77]\tvalid_0's binary_logloss: 0.131663\n",
      "[78]\tvalid_0's binary_logloss: 0.132483\n",
      "[79]\tvalid_0's binary_logloss: 0.131578\n",
      "[80]\tvalid_0's binary_logloss: 0.130352\n",
      "[81]\tvalid_0's binary_logloss: 0.129895\n",
      "[82]\tvalid_0's binary_logloss: 0.131587\n",
      "[83]\tvalid_0's binary_logloss: 0.132763\n",
      "[84]\tvalid_0's binary_logloss: 0.133677\n",
      "[85]\tvalid_0's binary_logloss: 0.137552\n",
      "[86]\tvalid_0's binary_logloss: 0.136055\n",
      "[87]\tvalid_0's binary_logloss: 0.137904\n",
      "[88]\tvalid_0's binary_logloss: 0.139524\n",
      "[89]\tvalid_0's binary_logloss: 0.138434\n",
      "[90]\tvalid_0's binary_logloss: 0.138402\n",
      "[91]\tvalid_0's binary_logloss: 0.139384\n",
      "[92]\tvalid_0's binary_logloss: 0.139642\n",
      "[93]\tvalid_0's binary_logloss: 0.138006\n",
      "[94]\tvalid_0's binary_logloss: 0.141612\n",
      "[95]\tvalid_0's binary_logloss: 0.142319\n",
      "[96]\tvalid_0's binary_logloss: 0.145095\n",
      "[97]\tvalid_0's binary_logloss: 0.141542\n",
      "[98]\tvalid_0's binary_logloss: 0.144993\n",
      "[99]\tvalid_0's binary_logloss: 0.147936\n",
      "[100]\tvalid_0's binary_logloss: 0.147432\n",
      "[101]\tvalid_0's binary_logloss: 0.149689\n",
      "[102]\tvalid_0's binary_logloss: 0.153542\n",
      "[103]\tvalid_0's binary_logloss: 0.154556\n",
      "[104]\tvalid_0's binary_logloss: 0.155458\n",
      "[105]\tvalid_0's binary_logloss: 0.159357\n",
      "[106]\tvalid_0's binary_logloss: 0.160176\n",
      "[107]\tvalid_0's binary_logloss: 0.163369\n",
      "[108]\tvalid_0's binary_logloss: 0.163494\n",
      "[109]\tvalid_0's binary_logloss: 0.161111\n",
      "[110]\tvalid_0's binary_logloss: 0.16332\n",
      "[111]\tvalid_0's binary_logloss: 0.1663\n",
      "[112]\tvalid_0's binary_logloss: 0.166363\n",
      "[113]\tvalid_0's binary_logloss: 0.169834\n",
      "[114]\tvalid_0's binary_logloss: 0.166509\n",
      "[115]\tvalid_0's binary_logloss: 0.165823\n",
      "[116]\tvalid_0's binary_logloss: 0.167059\n",
      "[117]\tvalid_0's binary_logloss: 0.169086\n",
      "[118]\tvalid_0's binary_logloss: 0.170012\n",
      "[119]\tvalid_0's binary_logloss: 0.168639\n",
      "[120]\tvalid_0's binary_logloss: 0.16907\n",
      "[121]\tvalid_0's binary_logloss: 0.16918\n",
      "[122]\tvalid_0's binary_logloss: 0.170233\n",
      "[123]\tvalid_0's binary_logloss: 0.165655\n",
      "[124]\tvalid_0's binary_logloss: 0.16695\n",
      "[125]\tvalid_0's binary_logloss: 0.170955\n",
      "[126]\tvalid_0's binary_logloss: 0.168916\n",
      "[127]\tvalid_0's binary_logloss: 0.172316\n",
      "[128]\tvalid_0's binary_logloss: 0.173734\n",
      "[129]\tvalid_0's binary_logloss: 0.174309\n",
      "[130]\tvalid_0's binary_logloss: 0.176719\n",
      "[131]\tvalid_0's binary_logloss: 0.176591\n",
      "[132]\tvalid_0's binary_logloss: 0.180168\n",
      "[133]\tvalid_0's binary_logloss: 0.179856\n",
      "[134]\tvalid_0's binary_logloss: 0.179251\n",
      "[135]\tvalid_0's binary_logloss: 0.18315\n",
      "[136]\tvalid_0's binary_logloss: 0.184656\n",
      "[137]\tvalid_0's binary_logloss: 0.187475\n",
      "[138]\tvalid_0's binary_logloss: 0.188721\n",
      "[139]\tvalid_0's binary_logloss: 0.188542\n",
      "[140]\tvalid_0's binary_logloss: 0.18817\n",
      "[141]\tvalid_0's binary_logloss: 0.185899\n",
      "[142]\tvalid_0's binary_logloss: 0.185452\n",
      "[143]\tvalid_0's binary_logloss: 0.186084\n",
      "[144]\tvalid_0's binary_logloss: 0.185302\n",
      "[145]\tvalid_0's binary_logloss: 0.187856\n",
      "[146]\tvalid_0's binary_logloss: 0.190334\n",
      "[147]\tvalid_0's binary_logloss: 0.192769\n",
      "Early stopping, best iteration is:\n",
      "[47]\tvalid_0's binary_logloss: 0.126108\n"
     ]
    },
    {
     "name": "stderr",
     "output_type": "stream",
     "text": [
      "C:\\Users\\82109\\Anaconda3\\lib\\site-packages\\sklearn\\preprocessing\\label.py:151: DeprecationWarning: The truth value of an empty array is ambiguous. Returning False, but in future this will result in an error. Use `array.size > 0` to check that an array is not empty.\n",
      "  if diff:\n"
     ]
    }
   ],
   "source": [
    "# LightGBM의 파이썬 패키지인 lightgbm에서 LGBMClassifier 임포트\n",
    "from lightgbm import LGBMClassifier\n",
    "\n",
    "import pandas as pd\n",
    "import numpy as np\n",
    "from sklearn.datasets import load_breast_cancer\n",
    "from sklearn.model_selection import train_test_split\n",
    "\n",
    "dataset = load_breast_cancer()\n",
    "ftr = dataset.data\n",
    "target = dataset.target\n",
    "\n",
    "# 전체 데이터 중 80%는 학습용 데이터, 20%는 테스트용 데이터 추출\n",
    "X_train, X_test, y_train, y_test=train_test_split(ftr, target, test_size=0.2, random_state=156 )\n",
    "\n",
    "# 앞서 XGBoost와 동일하게 n_estimators는 400 설정. \n",
    "lgbm_wrapper = LGBMClassifier(n_estimators=400)\n",
    "\n",
    "# LightGBM도 XGBoost와 동일하게 조기 중단 수행 가능. \n",
    "evals = [(X_test, y_test)]\n",
    "lgbm_wrapper.fit(X_train, y_train, early_stopping_rounds=100, eval_metric=\"logloss\", \n",
    "                 eval_set=evals, verbose=True)\n",
    "preds = lgbm_wrapper.predict(X_test)\n",
    "pred_proba = lgbm_wrapper.predict_proba(X_test)[:, 1]"
   ]
  },
  {
   "cell_type": "code",
   "execution_count": 3,
   "metadata": {},
   "outputs": [],
   "source": [
    "from sklearn.metrics import confusion_matrix, accuracy_score\n",
    "from sklearn.metrics import precision_score, recall_score\n",
    "from sklearn.metrics import f1_score, roc_auc_score\n",
    "\n",
    "def get_clf_eval(y_test, pred=None, pred_proba=None):\n",
    "    confusion = confusion_matrix( y_test, pred)\n",
    "    accuracy = accuracy_score(y_test , pred)\n",
    "    precision = precision_score(y_test , pred)\n",
    "    recall = recall_score(y_test , pred)\n",
    "    f1 = f1_score(y_test,pred)\n",
    "    # ROC-AUC 추가 \n",
    "    roc_auc = roc_auc_score(y_test, pred_proba)\n",
    "    print('오차 행렬')\n",
    "    print(confusion)\n",
    "    # ROC-AUC print 추가\n",
    "    print('정확도: {0:.4f}, 정밀도: {1:.4f}, 재현율: {2:.4f},\\\n",
    "    F1: {3:.4f}, AUC:{4:.4f}'.format(accuracy, precision, recall, f1, roc_auc))"
   ]
  },
  {
   "cell_type": "code",
   "execution_count": 4,
   "metadata": {},
   "outputs": [
    {
     "name": "stdout",
     "output_type": "stream",
     "text": [
      "오차 행렬\n",
      "[[33  4]\n",
      " [ 2 75]]\n",
      "정확도: 0.9474, 정밀도: 0.9494, 재현율: 0.9740,    F1: 0.9615, AUC:0.9926\n"
     ]
    }
   ],
   "source": [
    "get_clf_eval(y_test, preds, pred_proba)"
   ]
  },
  {
   "cell_type": "code",
   "execution_count": 5,
   "metadata": {},
   "outputs": [
    {
     "data": {
      "text/plain": [
       "<matplotlib.axes._subplots.AxesSubplot at 0x24b653a51c8>"
      ]
     },
     "execution_count": 5,
     "metadata": {},
     "output_type": "execute_result"
    },
    {
     "data": {
      "image/png": "[encoded data removed]",
      "text/plain": [
       "<Figure size 720x864 with 1 Axes>"
      ]
     },
     "metadata": {
      "needs_background": "light"
     },
     "output_type": "display_data"
    }
   ],
   "source": [
    "# plot_importance( )를 이용하여 feature 중요도 시각화\n",
    "from lightgbm import plot_importance\n",
    "import matplotlib.pyplot as plt\n",
    "%matplotlib inline\n",
    "\n",
    "fig, ax = plt.subplots(figsize=(10, 12))\n",
    "plot_importance(lgbm_wrapper, ax=ax)"
   ]
  }
 ],
 "metadata": {
  "kernelspec": {
   "display_name": "Python 3",
   "language": "python",
   "name": "python3"
  },
  "language_info": {
   "codemirror_mode": {
    "name": "ipython",
    "version": 3
   },
   "file_extension": ".py",
   "mimetype": "text/x-python",
   "name": "python",
   "nbconvert_exporter": "python",
   "pygments_lexer": "ipython3",
   "version": "3.7.5"
  }
 },
 "nbformat": 4,
 "nbformat_minor": 2
}
